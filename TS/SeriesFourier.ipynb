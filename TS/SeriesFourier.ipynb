{
 "cells": [
  {
   "cell_type": "markdown",
   "id": "wicked-response",
   "metadata": {},
   "source": [
    "### Serie de Fourier "
   ]
  },
  {
   "cell_type": "code",
   "execution_count": 3,
   "id": "liked-bride",
   "metadata": {},
   "outputs": [],
   "source": [
    "import numpy as np\n",
    "from matplotlib import pyplot as plt\n",
    "from numpy import pi"
   ]
  },
  {
   "cell_type": "markdown",
   "id": "cross-andrews",
   "metadata": {},
   "source": [
    "#### La funcion que queremos\n",
    "\\begin{equation}\n",
    "f(t)= \\left\\{ \\begin{array}{lcc}\n",
    "             \\pi &   si  & -\\pi\\leq t < 0 \\\\\n",
    "             \\\\ t &  si &  0\\leq  t < \\pi \\\\\n",
    "             \\end{array}\n",
    "   \\right.\\end{equation}"
   ]
  },
  {
   "cell_type": "code",
   "execution_count": 4,
   "id": "front-robert",
   "metadata": {},
   "outputs": [
    {
     "data": {
      "text/plain": [
       "[<matplotlib.lines.Line2D at 0x146649980d0>]"
      ]
     },
     "execution_count": 4,
     "metadata": {},
     "output_type": "execute_result"
    },
    {
     "data": {
      "image/png": "[encoded data removed]",
      "text/plain": [
       "<Figure size 432x288 with 1 Axes>"
      ]
     },
     "metadata": {
      "needs_background": "light"
     },
     "output_type": "display_data"
    }
   ],
   "source": [
    "n = 201\n",
    "x = np.array(np.linspace(-pi,pi,n))\n",
    "fx = np.full(n,pi)\n",
    "\n",
    "for i in range(0,n//2 + 1):\n",
    "    fx[i + n//2] = x[i + n//2]\n",
    "plt.plot(x,fx, color='m')"
   ]
  },
  {
   "cell_type": "markdown",
   "id": "duplicate-domestic",
   "metadata": {},
   "source": [
    "#### Segunda forma trigonometrica de la serie de Fourier\n",
    "\\begin{equation}\n",
    "f_a(t) = D_0 + \\sum_{k = 1}^{n}{\\left(A_k*cos\\left(\\frac{2 \\Pi kt}{T} \\right) + B_k*\\sin\\left(\\frac{2 \\Pi kt}{T}\\right) \\right)}\n",
    "\\end{equation} "
   ]
  },
  {
   "cell_type": "markdown",
   "id": "confidential-auckland",
   "metadata": {},
   "source": [
    "#### Definimos los coeficientes y Do \\begin{equation} A_k, B_k , D_0\\end{equation} \n",
    "\\begin{equation} D_0=\\frac{3*pi}{4}\\end{equation} \n",
    "\\begin{equation} A_k=\\frac{(-1)^n-1}{pi*k^2}\\end{equation} \n",
    "\\begin{equation} B_k=\\frac{-1}{k}\\end{equation} \n"
   ]
  },
  {
   "cell_type": "code",
   "execution_count": 5,
   "id": "universal-judgment",
   "metadata": {},
   "outputs": [],
   "source": [
    "t = np.linspace(-pi,pi,1000)  # el tiempo para los armonicos\n",
    "tam = 1000 # entre más grade sea tam más exactitud se tendra (propuestos 10, 100, 1000)\n",
    "a = np.zeros(tam)\n",
    "b = np.zeros(tam)\n",
    "k = 1\n",
    "for i in range(0,tam,1): # calculo de an y bn \n",
    "    a[i] = ((-1)**k - 1)/(pi*k**2)\n",
    "    b[i] = -1/k\n",
    "    k += 1\n",
    "Do = 3*pi/4"
   ]
  },
  {
   "cell_type": "markdown",
   "id": "purple-substitute",
   "metadata": {},
   "source": [
    "#### Calculo de los armonicos"
   ]
  },
  {
   "cell_type": "code",
   "execution_count": 6,
   "id": "solar-ownership",
   "metadata": {},
   "outputs": [],
   "source": [
    "armonicos = [] # es una lista de arrays que tiene a todos los armonicos\n",
    "k = 1\n",
    "for i in range(0,tam,1):\n",
    "    armc = a[i]*np.cos(k*t)\n",
    "    arms = b[i]*np.sin(k*t)\n",
    "    un_armonico = armc + arms\n",
    "    armonicos.append(un_armonico)\n",
    "    k += 1\n",
    "    \n",
    "armonicos[0] = armonicos[0] + Do # sumamos el Ao\n",
    "funcion = np.sum(armonicos,axis=0) #suma todos los armonicos"
   ]
  },
  {
   "cell_type": "code",
   "execution_count": 5,
   "id": "dated-motion",
   "metadata": {},
   "outputs": [
    {
     "data": {
      "text/plain": [
       "[<matplotlib.lines.Line2D at 0x2472c7d20a0>]"
      ]
     },
     "execution_count": 5,
     "metadata": {},
     "output_type": "execute_result"
    },
    {
     "data": {
      "image/png": "[encoded data removed]",
      "text/plain": [
       "<Figure size 432x288 with 1 Axes>"
      ]
     },
     "metadata": {
      "needs_background": "light"
     },
     "output_type": "display_data"
    }
   ],
   "source": [
    "plt.plot(t,funcion,color='m')"
   ]
  },
  {
   "cell_type": "markdown",
   "id": "another-yellow",
   "metadata": {},
   "source": [
    "Podemos observar que entre más armonicos sumemos, más exactitud se tendra."
   ]
  },
  {
   "cell_type": "markdown",
   "id": "continuous-spotlight",
   "metadata": {},
   "source": [
    "#### Forma exponencial de la serie de Fourier\n",
    "\\begin{equation}\n",
    "f_a(t) = \\sum_{k = -n}^{n}{\\left(D_k * e^{\\frac{i 2 \\pi kt}{T}} \\right)}\n",
    "\\end{equation} "
   ]
  },
  {
   "cell_type": "markdown",
   "id": "difficult-anderson",
   "metadata": {},
   "source": [
    "#### Definimos Dk \n",
    "\\begin{equation} D_k = \\frac{1}{2 \\pi k^2}*((-1)^k - 1) + \\frac{i}{2k} \\end{equation}\n",
    "\n",
    "\\begin{equation} e^{ikt} = cos(kt) + isen(kt)\\end{equation}\n",
    "\n",
    "calculamos a continuación los coeficientes Dk para n = tam "
   ]
  },
  {
   "cell_type": "code",
   "execution_count": 6,
   "id": "attended-aerospace",
   "metadata": {},
   "outputs": [],
   "source": [
    "tam = 100 # sugeridos 10, 100, 1000\n",
    "coefis_com = []\n",
    "w = -tam\n",
    "for i in range(-tam,0,1):\n",
    "    uno = (1/(2*pi*w**2))*((-1)**w - 1) # parte real de dk\n",
    "    dos = 1/(2*w) # parte imaginaria\n",
    "    d = complex(uno,dos)\n",
    "    coefis_com.append(d)\n",
    "    w += 1\n",
    "w = 1\n",
    "for i in range(1,tam+1,1):\n",
    "    uno = (1/(2*pi*w**2))*((-1)**w - 1) # parte real de dk\n",
    "    dos = 1/(2*w) # parte imaginaria\n",
    "    d = complex(uno,dos)\n",
    "    coefis_com.append(d)\n",
    "    w += 1   "
   ]
  },
  {
   "cell_type": "markdown",
   "id": "approximate-inspector",
   "metadata": {},
   "source": [
    "#### Calculo de los armonicos"
   ]
  },
  {
   "cell_type": "code",
   "execution_count": 7,
   "id": "unnecessary-lincoln",
   "metadata": {},
   "outputs": [],
   "source": [
    "final_armonicos = [] # es una lista de arrays que tiene a todos los armonicos\n",
    "k = -tam\n",
    "for i in range(0,tam,1): # los k's negativos\n",
    "    armonico = []\n",
    "    for ele in t:\n",
    "        f = coefis_com[i]*complex(np.cos(k*ele),np.sin(k*ele))\n",
    "        armonico.append(f)\n",
    "    final_armonicos.append(armonico)\n",
    "    k += 1\n",
    "    \n",
    "k = 1\n",
    "for i in range(0,tam,1): # los k's positivos\n",
    "    armonico = []\n",
    "    for ele in t:\n",
    "        f = coefis_com[i+tam]*complex(np.cos(k*ele),np.sin(k*ele))\n",
    "        armonico.append(f)\n",
    "    final_armonicos.append(armonico)\n",
    "    k += 1\n",
    "final_armonicos = np.array(final_armonicos)\n",
    "final_armonicos[0] = final_armonicos[0] + Do # sumamos el Ao\n",
    "funcion = np.sum(final_armonicos,axis=0) #suma todos los armonicos"
   ]
  },
  {
   "cell_type": "code",
   "execution_count": 8,
   "id": "silver-actor",
   "metadata": {},
   "outputs": [
    {
     "name": "stderr",
     "output_type": "stream",
     "text": [
      "C:\\Users\\hp\\miniconda3\\lib\\site-packages\\numpy\\core\\_asarray.py:102: ComplexWarning: Casting complex values to real discards the imaginary part\n",
      "  return array(a, dtype, copy=False, order=order)\n"
     ]
    },
    {
     "data": {
      "text/plain": [
       "[<matplotlib.lines.Line2D at 0x2472de29f40>]"
      ]
     },
     "execution_count": 8,
     "metadata": {},
     "output_type": "execute_result"
    },
    {
     "data": {
      "image/png": "[encoded data removed]",
      "text/plain": [
       "<Figure size 432x288 with 1 Axes>"
      ]
     },
     "metadata": {
      "needs_background": "light"
     },
     "output_type": "display_data"
    }
   ],
   "source": [
    "plt.plot(t,funcion,color='m')"
   ]
  },
  {
   "cell_type": "markdown",
   "id": "threatened-prophet",
   "metadata": {},
   "source": [
    "#### Primera forma trigonometrica de la serie de Fourier\n",
    "\\begin{equation}\n",
    "f_a(t) = C_0 + \\sum_{k = 1}^{n}{\\left(C_k*cos\\left( \\varphi + \\frac{2 \\Pi kt}{T}\\right) \\right)}\n",
    "\\end{equation} "
   ]
  },
  {
   "cell_type": "markdown",
   "id": "crude-ethernet",
   "metadata": {},
   "source": [
    "#### Calculo de Ck\n",
    "\\begin{equation}C_k = \\frac{1}{k}*\\sqrt{\\frac{2(1-(-1)^k)}{k^2 \\pi^2} + 1} \\end{equation}\n",
    "\n",
    "\\begin{equation} \\varphi = angtang\\left(\\frac{k \\pi}{(-1)^k -1}\\right)\\end{equation}"
   ]
  },
  {
   "cell_type": "code",
   "execution_count": 9,
   "id": "radical-reading",
   "metadata": {},
   "outputs": [],
   "source": [
    "tam = 10 # sugeridos 10, 100, 1000\n",
    "Cks = []\n",
    "angs = []\n",
    "k = 1\n",
    "for i in range(1,tam+1,1):\n",
    "    Ck= 1/k*np.sqrt((2*(1-(-1)**k))/(k**2*pi**2) + 1) \n",
    "    ang = np.arctan2((k*pi),((-1)**k - 1))\n",
    "    Cks.append(Ck)\n",
    "    angs.append(ang)\n",
    "    k += 1"
   ]
  },
  {
   "cell_type": "markdown",
   "id": "dying-cowboy",
   "metadata": {},
   "source": [
    "#### Calculo de los armonicos"
   ]
  },
  {
   "cell_type": "code",
   "execution_count": 10,
   "id": "attended-charge",
   "metadata": {},
   "outputs": [
    {
     "data": {
      "text/plain": [
       "[<matplotlib.lines.Line2D at 0x2472d84bd60>]"
      ]
     },
     "execution_count": 10,
     "metadata": {},
     "output_type": "execute_result"
    },
    {
     "data": {
      "image/png": "[encoded data removed]",
      "text/plain": [
       "<Figure size 432x288 with 1 Axes>"
      ]
     },
     "metadata": {
      "needs_background": "light"
     },
     "output_type": "display_data"
    }
   ],
   "source": [
    "t = np.linspace(-pi,pi,1000)\n",
    "armonicos = []\n",
    "k = 1\n",
    "for i in range(0,tam,1):\n",
    "    arm = Cks[i]*np.cos(angs[i]+ k*t)\n",
    "    armonicos.append(arm)\n",
    "    k += 1\n",
    "\n",
    "armonicos[0] = armonicos[0]+Do #sumamos el Co\n",
    "fun = np.sum(armonicos, axis=0)\n",
    "plt.plot(t,fun, color='m')"
   ]
  },
  {
   "cell_type": "code",
   "execution_count": null,
   "id": "charitable-holder",
   "metadata": {},
   "outputs": [],
   "source": []
  }
 ],
 "metadata": {
  "kernelspec": {
   "display_name": "Python 3",
   "language": "python",
   "name": "python3"
  },
  "language_info": {
   "codemirror_mode": {
    "name": "ipython",
    "version": 3
   },
   "file_extension": ".py",
   "mimetype": "text/x-python",
   "name": "python",
   "nbconvert_exporter": "python",
   "pygments_lexer": "ipython3",
   "version": "3.8.5"
  }
 },
 "nbformat": 4,
 "nbformat_minor": 5
}
